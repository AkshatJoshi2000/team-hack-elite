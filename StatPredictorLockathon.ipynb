{
  "nbformat": 4,
  "nbformat_minor": 0,
  "metadata": {
    "colab": {
      "name": "StatPredictorLockathon.ipynb",
      "provenance": [],
      "collapsed_sections": []
    },
    "kernelspec": {
      "name": "python3",
      "display_name": "Python 3"
    }
  },
  "cells": [
    {
      "cell_type": "code",
      "metadata": {
        "id": "U5ucBsOew1Cm",
        "colab_type": "code",
        "outputId": "aa06177a-3baa-4887-ccad-643a2c7a75a4",
        "colab": {
          "resources": {
            "http://localhost:8080/nbextensions/google.colab/files.js": {
              "data": "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",
              "ok": true,
              "headers": [
                [
                  "content-type",
                  "application/javascript"
                ]
              ],
              "status": 200,
              "status_text": ""
            }
          },
          "base_uri": "https://localhost:8080/",
          "height": 75
        }
      },
      "source": [
        "from google.colab import files                   # since data was taken from kaggle, hence kaggle token used\n",
        "import os\n",
        "uploaded = files.upload()"
      ],
      "execution_count": 1,
      "outputs": [
        {
          "output_type": "display_data",
          "data": {
            "text/html": [
              "\n",
              "     <input type=\"file\" id=\"files-365af3ab-837f-40ac-bed6-1a99f6b00e63\" name=\"files[]\" multiple disabled />\n",
              "     <output id=\"result-365af3ab-837f-40ac-bed6-1a99f6b00e63\">\n",
              "      Upload widget is only available when the cell has been executed in the\n",
              "      current browser session. Please rerun this cell to enable.\n",
              "      </output>\n",
              "      <script src=\"/nbextensions/google.colab/files.js\"></script> "
            ],
            "text/plain": [
              "<IPython.core.display.HTML object>"
            ]
          },
          "metadata": {
            "tags": []
          }
        },
        {
          "output_type": "stream",
          "text": [
            "Saving kaggle.json to kaggle (2).json\n"
          ],
          "name": "stdout"
        }
      ]
    },
    {
      "cell_type": "code",
      "metadata": {
        "id": "nloHbLNcxPQB",
        "colab_type": "code",
        "outputId": "7b0c173e-ec78-4d46-bf2b-7b62d5b4637b",
        "colab": {
          "base_uri": "https://localhost:8080/",
          "height": 90
        }
      },
      "source": [
        "!ls -lha kaggle.json\n",
        "!pip install -q kaggle\n",
        "!mkdir -p ~/.kaggle\n",
        "!cp kaggle.json ~/.kaggle\n",
        "!chmod 600 ~/.kaggle/kaggle.json\n",
        "!kaggle datasets download --force -d sudalairajkumar/covid19-in-india"
      ],
      "execution_count": 2,
      "outputs": [
        {
          "output_type": "stream",
          "text": [
            "-rw-r--r-- 1 root root 67 May  8 10:30 kaggle.json\n",
            "Downloading covid19-in-india.zip to /content\n",
            "  0% 0.00/188k [00:00<?, ?B/s]\n",
            "100% 188k/188k [00:00<00:00, 55.3MB/s]\n"
          ],
          "name": "stdout"
        }
      ]
    },
    {
      "cell_type": "code",
      "metadata": {
        "id": "HBNr40HXxVV5",
        "colab_type": "code",
        "outputId": "d76a354c-995a-4b1e-cded-a2382faee714",
        "colab": {
          "base_uri": "https://localhost:8080/",
          "height": 199
        }
      },
      "source": [
        "!unzip covid19-in-india.zip                            # covid19-in-india.zip has been pushed seperately in the repo"
      ],
      "execution_count": 3,
      "outputs": [
        {
          "output_type": "stream",
          "text": [
            "Archive:  covid19-in-india.zip\n",
            "replace AgeGroupDetails.csv? [y]es, [n]o, [A]ll, [N]one, [r]ename: A\n",
            "  inflating: AgeGroupDetails.csv     \n",
            "  inflating: HospitalBedsIndia.csv   \n",
            "  inflating: ICMRTestingDetails.csv  \n",
            "  inflating: ICMRTestingLabs.csv     \n",
            "  inflating: IndividualDetails.csv   \n",
            "  inflating: StatewiseTestingDetails.csv  \n",
            "  inflating: covid_19_india.csv      \n",
            "  inflating: population_india_census2011.csv  \n"
          ],
          "name": "stdout"
        }
      ]
    },
    {
      "cell_type": "code",
      "metadata": {
        "id": "ke0EtYwLzXeh",
        "colab_type": "code",
        "colab": {}
      },
      "source": [
        "import pandas as pd\n",
        "import numpy as np\n",
        "import datetime\n",
        "import warnings\n",
        "warnings.filterwarnings('ignore')\n",
        "raw_data = pd.read_csv('covid_19_india.csv')"
      ],
      "execution_count": 0,
      "outputs": []
    },
    {
      "cell_type": "code",
      "metadata": {
        "id": "RJMStGJo4EkP",
        "colab_type": "code",
        "outputId": "082148cd-82ad-4ee9-e2fe-e67cb59e237d",
        "colab": {
          "base_uri": "https://localhost:8080/",
          "height": 254
        }
      },
      "source": [
        "x = np.array(raw_data['Time'])\n",
        "u = np.unique(x)\n",
        "print(u)                                                                      # replacing the AM-PM timestyle with 24 hour timestyle\n",
        "raw_data['Time'][raw_data['Time'] == '10:00 AM'] = '10:00:00' \n",
        "raw_data['Time'][raw_data['Time'] == '10:00 AM'] = '10:00:00' \n",
        "raw_data['Time'][raw_data['Time'] == '8:00 AM'] = '08:00:00'\n",
        "raw_data['Time'][raw_data['Time'] == '5:00 PM'] = '17:00:00'                                     # replacing the AM-PM timestyle with 24 hour timestyle\n",
        "raw_data['Time'][raw_data['Time'] == '6:00 PM'] = '18:00:00'\n",
        "raw_data['Time'][raw_data['Time'] == '7:30 PM'] = '19:30:00'\n",
        "raw_data['Time'][raw_data['Time'] == '8:30 PM'] = '20:30:00'\n",
        "raw_data['Time'][raw_data['Time'] == '9:30 PM'] = '21:30:00'     \n",
        "print(raw_data['Time'])"
      ],
      "execution_count": 5,
      "outputs": [
        {
          "output_type": "stream",
          "text": [
            "['10:00 AM' '5:00 PM' '6:00 PM' '7:30 PM' '8:00 AM' '8:30 PM' '9:30 PM']\n",
            "0       18:00:00\n",
            "1       18:00:00\n",
            "2       18:00:00\n",
            "3       18:00:00\n",
            "4       18:00:00\n",
            "          ...   \n",
            "1732    08:00:00\n",
            "1733    08:00:00\n",
            "1734    08:00:00\n",
            "1735    08:00:00\n",
            "1736    08:00:00\n",
            "Name: Time, Length: 1737, dtype: object\n"
          ],
          "name": "stdout"
        }
      ]
    },
    {
      "cell_type": "code",
      "metadata": {
        "id": "OHiazDOA0XZo",
        "colab_type": "code",
        "colab": {
          "base_uri": "https://localhost:8080/",
          "height": 235
        },
        "outputId": "2ffc4cd5-1f5a-48c1-b8c4-cad603c8ca16"
      },
      "source": [
        "raw_data['Date'] = raw_data['Date'] + '20'\n",
        "raw_data['Datetime'] = raw_data['Date'] + ' ' + raw_data['Time']\n",
        "for i in range(len(raw_data['Datetime'])):\n",
        "  raw_data['Datetime'][i] = datetime.datetime.strptime(raw_data['Datetime'][i],'%d/%m/%Y %H:%M:%S')  \n",
        "print(raw_data['Datetime'])                                                                              # converting all the dates in string to datetime data type"
      ],
      "execution_count": 6,
      "outputs": [
        {
          "output_type": "stream",
          "text": [
            "0       2020-01-30 18:00:00\n",
            "1       2020-01-31 18:00:00\n",
            "2       2020-02-01 18:00:00\n",
            "3       2020-02-02 18:00:00\n",
            "4       2020-02-03 18:00:00\n",
            "               ...         \n",
            "1732    2020-05-08 08:00:00\n",
            "1733    2020-05-08 08:00:00\n",
            "1734    2020-05-08 08:00:00\n",
            "1735    2020-05-08 08:00:00\n",
            "1736    2020-05-08 08:00:00\n",
            "Name: Datetime, Length: 1737, dtype: object\n"
          ],
          "name": "stdout"
        }
      ]
    },
    {
      "cell_type": "code",
      "metadata": {
        "id": "NrWvWBTlNJN_",
        "colab_type": "code",
        "outputId": "dad501a4-fa6e-42b2-fec4-232037bba866",
        "colab": {
          "base_uri": "https://localhost:8080/",
          "height": 90
        }
      },
      "source": [
        "from matplotlib import pyplot as plt\n",
        "print(raw_data.columns)                                                         # we shall be predicting the confirmed cases for the next week "
      ],
      "execution_count": 7,
      "outputs": [
        {
          "output_type": "stream",
          "text": [
            "Index(['Sno', 'Date', 'Time', 'State/UnionTerritory',\n",
            "       'ConfirmedIndianNational', 'ConfirmedForeignNational', 'Cured',\n",
            "       'Deaths', 'Confirmed', 'Datetime'],\n",
            "      dtype='object')\n"
          ],
          "name": "stdout"
        }
      ]
    },
    {
      "cell_type": "code",
      "metadata": {
        "id": "RMF6VAJAQRNZ",
        "colab_type": "code",
        "outputId": "3458a6b2-8f5c-4b11-dfcc-43b624e724b1",
        "colab": {
          "base_uri": "https://localhost:8080/",
          "height": 726
        }
      },
      "source": [
        "statewise = raw_data.groupby('State/UnionTerritory')['Confirmed','Deaths','Cured'].max()\n",
        "statewise['Active'] = statewise['Confirmed'] - statewise['Deaths'] - statewise['Cured']\n",
        "print(statewise)                                                                # displaying statewise statistics as they stand for better understanding"
      ],
      "execution_count": 8,
      "outputs": [
        {
          "output_type": "stream",
          "text": [
            "                             Confirmed  Deaths  Cured  Active\n",
            "State/UnionTerritory                                         \n",
            "Andaman and Nicobar Islands         33       0     33       0\n",
            "Andhra Pradesh                    1847      38    780    1029\n",
            "Arunachal Pradesh                    1       0      1       0\n",
            "Assam                               54       1     34      19\n",
            "Bihar                              550       5    246     299\n",
            "Chandigarh                         135       1     21     113\n",
            "Chhattisgarh                        59       0     38      21\n",
            "Dadar Nagar Haveli                   1       0      0       1\n",
            "Delhi                             5980      66   1931    3983\n",
            "Goa                                  7       0      7       0\n",
            "Gujarat                           7012     425   1709    4878\n",
            "Haryana                            625       7    260     358\n",
            "Himachal Pradesh                    46       2     38       6\n",
            "Jammu and Kashmir                  793       9    335     449\n",
            "Jharkhand                          132       3     41      88\n",
            "Jharkhand#                          45       3      0      42\n",
            "Karnataka                          705      30    366     309\n",
            "Kerala                             503       4    474      25\n",
            "Ladakh                              42       0     17      25\n",
            "Madhya Pradesh                    3252     193   1231    1828\n",
            "Maharashtra                      17974     694   3301   13979\n",
            "Manipur                              2       0      2       0\n",
            "Meghalaya                           12       1     10       1\n",
            "Mizoram                              1       0      0       1\n",
            "Nagaland                             1       0      0       1\n",
            "Nagaland#                            0       0      0       0\n",
            "Odisha                             219       2     62     155\n",
            "Puducherry                           9       0      6       3\n",
            "Punjab                            1644      28    149    1467\n",
            "Rajasthan                         3427      97   1596    1734\n",
            "Tamil Nadu                        5409      37   1547    3825\n",
            "Telengana                         1123      29    650     444\n",
            "Tripura                             65       0      2      63\n",
            "Unassigned                          77       0      0      77\n",
            "Uttar Pradesh                     3071      62   1250    1759\n",
            "Uttarakhand                         61       1     39      21\n",
            "West Bengal                       1548     151    364    1033\n"
          ],
          "name": "stdout"
        }
      ]
    },
    {
      "cell_type": "code",
      "metadata": {
        "id": "bVeItqdhkQ_N",
        "colab_type": "code",
        "outputId": "29c62d8f-1946-4107-8fad-15ff898bb860",
        "colab": {
          "base_uri": "https://localhost:8080/",
          "height": 272
        }
      },
      "source": [
        "country_data = raw_data.groupby(\"Datetime\")[[\"Confirmed\",\"Cured\",\"Deaths\"]].sum().reset_index()\n",
        "country_data['Active'] = country_data['Confirmed'] - country_data['Cured'] - country_data['Deaths']           \n",
        "print(country_data)                                                                                    #converting the data into useable datetime grouped format"
      ],
      "execution_count": 9,
      "outputs": [
        {
          "output_type": "stream",
          "text": [
            "              Datetime  Confirmed  Cured  Deaths  Active\n",
            "0  2020-01-30 18:00:00          1      0       0       1\n",
            "1  2020-01-31 18:00:00          1      0       0       1\n",
            "2  2020-02-01 18:00:00          2      0       0       2\n",
            "3  2020-02-02 18:00:00          3      0       0       3\n",
            "4  2020-02-03 18:00:00          3      0       0       3\n",
            "..                 ...        ...    ...     ...     ...\n",
            "95 2020-05-04 17:00:00      42836  11762    1389   29685\n",
            "96 2020-05-05 17:00:00      46711  13161    1583   31967\n",
            "97 2020-05-06 08:00:00      49391  14183    1694   33514\n",
            "98 2020-05-07 08:00:00      52952  15267    1783   35902\n",
            "99 2020-05-08 08:00:00      56342  16540    1886   37916\n",
            "\n",
            "[100 rows x 5 columns]\n"
          ],
          "name": "stdout"
        }
      ]
    },
    {
      "cell_type": "code",
      "metadata": {
        "id": "FgxBEH18lFnu",
        "colab_type": "code",
        "outputId": "93ea98cf-c17d-4de9-bfea-e8c743670e91",
        "colab": {
          "base_uri": "https://localhost:8080/",
          "height": 272
        }
      },
      "source": [
        "from fbprophet import Prophet\n",
        "from fbprophet.plot import plot_plotly, add_changepoints_to_plot\n",
        "train_country = country_data.loc[:,('Datetime','Confirmed')]                # we shall use Facebook's Prophet library, treating the COVID-19 Confirmed cases as a Time Series\n",
        "print(train_country)                                                        # uses the simple y(t) = g(t) + s(t) + h(t) - e model, where g(t) is trend, s(t) is seasonality, h(t) is holidays(not relevant)"
      ],
      "execution_count": 10,
      "outputs": [
        {
          "output_type": "stream",
          "text": [
            "              Datetime  Confirmed\n",
            "0  2020-01-30 18:00:00          1\n",
            "1  2020-01-31 18:00:00          1\n",
            "2  2020-02-01 18:00:00          2\n",
            "3  2020-02-02 18:00:00          3\n",
            "4  2020-02-03 18:00:00          3\n",
            "..                 ...        ...\n",
            "95 2020-05-04 17:00:00      42836\n",
            "96 2020-05-05 17:00:00      46711\n",
            "97 2020-05-06 08:00:00      49391\n",
            "98 2020-05-07 08:00:00      52952\n",
            "99 2020-05-08 08:00:00      56342\n",
            "\n",
            "[100 rows x 2 columns]\n"
          ],
          "name": "stdout"
        }
      ]
    },
    {
      "cell_type": "code",
      "metadata": {
        "id": "ZrqM2PPMokne",
        "colab_type": "code",
        "outputId": "207e1742-7931-4f76-feb9-6aaa2174dfb1",
        "colab": {
          "base_uri": "https://localhost:8080/",
          "height": 272
        }
      },
      "source": [
        "train_country.columns = ['ds','y']                                              # since the columns need to be named 'ds' and 'y'\n",
        "print(train_country)"
      ],
      "execution_count": 11,
      "outputs": [
        {
          "output_type": "stream",
          "text": [
            "                    ds      y\n",
            "0  2020-01-30 18:00:00      1\n",
            "1  2020-01-31 18:00:00      1\n",
            "2  2020-02-01 18:00:00      2\n",
            "3  2020-02-02 18:00:00      3\n",
            "4  2020-02-03 18:00:00      3\n",
            "..                 ...    ...\n",
            "95 2020-05-04 17:00:00  42836\n",
            "96 2020-05-05 17:00:00  46711\n",
            "97 2020-05-06 08:00:00  49391\n",
            "98 2020-05-07 08:00:00  52952\n",
            "99 2020-05-08 08:00:00  56342\n",
            "\n",
            "[100 rows x 2 columns]\n"
          ],
          "name": "stdout"
        }
      ]
    },
    {
      "cell_type": "code",
      "metadata": {
        "id": "uVUT3i-rlHFt",
        "colab_type": "code",
        "colab": {}
      },
      "source": [
        "model = Prophet(weekly_seasonality=True,yearly_seasonality=False,daily_seasonality=False)                                        # keeping weekly seasonality on keeping in mind daily scenarios after lockdown, disabling yearly and monthly scenarios\n",
        "model.fit(train_country)\n",
        "ft = model.make_future_dataframe(periods = 14)\n",
        "pred = model.predict(ft)"
      ],
      "execution_count": 0,
      "outputs": []
    },
    {
      "cell_type": "code",
      "metadata": {
        "id": "8ZANh_B01Ohq",
        "colab_type": "code",
        "outputId": "1da8cf59-e082-4b54-ffb3-d19011753870",
        "colab": {
          "base_uri": "https://localhost:8080/",
          "height": 35
        }
      },
      "source": [
        "tod = datetime.datetime.today().date()\n",
        "nw = tod + datetime.timedelta(days = 7)                                         \n",
        "nws = nw.strftime(\"%dth %B %Y\")\n",
        "print(\"The predicted confirmed cases for \" + str(nws) + \" throughout India : \" + str(pred.iloc[-8]['yhat'].astype(int)))"
      ],
      "execution_count": 13,
      "outputs": [
        {
          "output_type": "stream",
          "text": [
            "The predicted confirmed cases for 15th May 2020 throughout India : 63104\n"
          ],
          "name": "stdout"
        }
      ]
    },
    {
      "cell_type": "code",
      "metadata": {
        "id": "P7kOsLI6m0uO",
        "colab_type": "code",
        "outputId": "b85a0863-56cc-4fda-a4e4-a7d63220a84b",
        "colab": {
          "base_uri": "https://localhost:8080/",
          "height": 441
        }
      },
      "source": [
        "lt = model.plot(pred,xlabel='Date',ylabel='Confirmed Count')"
      ],
      "execution_count": 14,
      "outputs": [
        {
          "output_type": "display_data",
          "data": {
            "image/png": "[encoded data removed]",
            "text/plain": [
              "<Figure size 720x432 with 1 Axes>"
            ]
          },
          "metadata": {
            "tags": []
          }
        }
      ]
    }
  ]
}