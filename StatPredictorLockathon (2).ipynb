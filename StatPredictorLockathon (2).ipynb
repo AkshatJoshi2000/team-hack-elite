{
  "nbformat": 4,
  "nbformat_minor": 0,
  "metadata": {
    "colab": {
      "name": "StatPredictorLockathon.ipynb",
      "provenance": [],
      "collapsed_sections": []
    },
    "kernelspec": {
      "name": "python3",
      "display_name": "Python 3"
    }
  },
  "cells": [
    {
      "cell_type": "code",
      "metadata": {
        "id": "U5ucBsOew1Cm",
        "colab_type": "code",
        "outputId": "d26404d1-6ce3-4a8d-84e9-0902368d248c",
        "colab": {
          "resources": {
            "http://localhost:8080/nbextensions/google.colab/files.js": {
              "data": "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",
              "ok": true,
              "headers": [
                [
                  "content-type",
                  "application/javascript"
                ]
              ],
              "status": 200,
              "status_text": ""
            }
          },
          "base_uri": "https://localhost:8080/",
          "height": 75
        }
      },
      "source": [
        "from google.colab import files                   # since data was taken from kaggle, hence kaggle token used\n",
        "import os\n",
        "uploaded = files.upload()"
      ],
      "execution_count": 0,
      "outputs": [
        {
          "output_type": "display_data",
          "data": {
            "text/html": [
              "\n",
              "     <input type=\"file\" id=\"files-44263820-b122-44d1-b24e-925e16589643\" name=\"files[]\" multiple disabled />\n",
              "     <output id=\"result-44263820-b122-44d1-b24e-925e16589643\">\n",
              "      Upload widget is only available when the cell has been executed in the\n",
              "      current browser session. Please rerun this cell to enable.\n",
              "      </output>\n",
              "      <script src=\"/nbextensions/google.colab/files.js\"></script> "
            ],
            "text/plain": [
              "<IPython.core.display.HTML object>"
            ]
          },
          "metadata": {
            "tags": []
          }
        },
        {
          "output_type": "stream",
          "text": [
            "Saving kaggle.json to kaggle (1).json\n"
          ],
          "name": "stdout"
        }
      ]
    },
    {
      "cell_type": "code",
      "metadata": {
        "id": "nloHbLNcxPQB",
        "colab_type": "code",
        "outputId": "f5cdb461-4301-4d8c-d18f-3e27f6792fa5",
        "colab": {
          "base_uri": "https://localhost:8080/",
          "height": 235
        }
      },
      "source": [
        "!ls -lha kaggle.json\n",
        "!pip install statsmodels==0.11.0rc1\n",
        "!pip install -q kaggle\n",
        "!mkdir -p ~/.kaggle\n",
        "!cp kaggle.json ~/.kaggle\n",
        "!chmod 600 ~/.kaggle/kaggle.json\n",
        "!kaggle datasets download --force -d sudalairajkumar/covid19-in-india"
      ],
      "execution_count": 0,
      "outputs": [
        {
          "output_type": "stream",
          "text": [
            "-rw-r--r-- 1 root root 67 May 12 12:10 kaggle.json\n",
            "Requirement already satisfied: statsmodels==0.11.0rc1 in /usr/local/lib/python3.6/dist-packages (0.11.0rc1)\n",
            "Requirement already satisfied: pandas>=0.21 in /usr/local/lib/python3.6/dist-packages (from statsmodels==0.11.0rc1) (1.0.3)\n",
            "Requirement already satisfied: patsy>=0.5 in /usr/local/lib/python3.6/dist-packages (from statsmodels==0.11.0rc1) (0.5.1)\n",
            "Requirement already satisfied: scipy>=1.0 in /usr/local/lib/python3.6/dist-packages (from statsmodels==0.11.0rc1) (1.4.1)\n",
            "Requirement already satisfied: numpy>=1.14 in /usr/local/lib/python3.6/dist-packages (from statsmodels==0.11.0rc1) (1.18.4)\n",
            "Requirement already satisfied: pytz>=2017.2 in /usr/local/lib/python3.6/dist-packages (from pandas>=0.21->statsmodels==0.11.0rc1) (2018.9)\n",
            "Requirement already satisfied: python-dateutil>=2.6.1 in /usr/local/lib/python3.6/dist-packages (from pandas>=0.21->statsmodels==0.11.0rc1) (2.8.1)\n",
            "Requirement already satisfied: six in /usr/local/lib/python3.6/dist-packages (from patsy>=0.5->statsmodels==0.11.0rc1) (1.12.0)\n",
            "Downloading covid19-in-india.zip to /content\n",
            "  0% 0.00/191k [00:00<?, ?B/s]\n",
            "100% 191k/191k [00:00<00:00, 28.8MB/s]\n"
          ],
          "name": "stdout"
        }
      ]
    },
    {
      "cell_type": "code",
      "metadata": {
        "id": "HBNr40HXxVV5",
        "colab_type": "code",
        "outputId": "80be2e86-0e11-43b0-ea22-ee30a7a7c012",
        "colab": {
          "base_uri": "https://localhost:8080/",
          "height": 199
        }
      },
      "source": [
        "!unzip covid19-in-india.zip                            # covid19-in-india.zip has been pushed seperately in the repo"
      ],
      "execution_count": 0,
      "outputs": [
        {
          "output_type": "stream",
          "text": [
            "Archive:  covid19-in-india.zip\n",
            "replace AgeGroupDetails.csv? [y]es, [n]o, [A]ll, [N]one, [r]ename: A\n",
            "  inflating: AgeGroupDetails.csv     \n",
            "  inflating: HospitalBedsIndia.csv   \n",
            "  inflating: ICMRTestingDetails.csv  \n",
            "  inflating: ICMRTestingLabs.csv     \n",
            "  inflating: IndividualDetails.csv   \n",
            "  inflating: StatewiseTestingDetails.csv  \n",
            "  inflating: covid_19_india.csv      \n",
            "  inflating: population_india_census2011.csv  \n"
          ],
          "name": "stdout"
        }
      ]
    },
    {
      "cell_type": "code",
      "metadata": {
        "id": "ke0EtYwLzXeh",
        "colab_type": "code",
        "colab": {}
      },
      "source": [
        "import pandas as pd\n",
        "import numpy as np\n",
        "import datetime\n",
        "import warnings\n",
        "from datetime import timedelta\n",
        "warnings.filterwarnings('ignore')\n",
        "raw_data = pd.read_csv('covid_19_india.csv')"
      ],
      "execution_count": 0,
      "outputs": []
    },
    {
      "cell_type": "code",
      "metadata": {
        "id": "RJMStGJo4EkP",
        "colab_type": "code",
        "outputId": "7bef7eb7-f3bf-4885-b605-0a06e88d8bc5",
        "colab": {
          "base_uri": "https://localhost:8080/",
          "height": 254
        }
      },
      "source": [
        "x = np.array(raw_data['Time'])\n",
        "u = np.unique(x)\n",
        "print(u)                                                                      # replacing the AM-PM timestyle with 24 hour timestyle\n",
        "raw_data['Time'][raw_data['Time'] == '10:00 AM'] = '10:00:00' \n",
        "raw_data['Time'][raw_data['Time'] == '10:00 AM'] = '10:00:00' \n",
        "raw_data['Time'][raw_data['Time'] == '8:00 AM'] = '08:00:00'\n",
        "raw_data['Time'][raw_data['Time'] == '5:00 PM'] = '17:00:00'                                     # replacing the AM-PM timestyle with 24 hour timestyle\n",
        "raw_data['Time'][raw_data['Time'] == '6:00 PM'] = '18:00:00'\n",
        "raw_data['Time'][raw_data['Time'] == '7:30 PM'] = '19:30:00'\n",
        "raw_data['Time'][raw_data['Time'] == '8:30 PM'] = '20:30:00'\n",
        "raw_data['Time'][raw_data['Time'] == '9:30 PM'] = '21:30:00'     \n",
        "print(raw_data['Time'])"
      ],
      "execution_count": 0,
      "outputs": [
        {
          "output_type": "stream",
          "text": [
            "['10:00 AM' '5:00 PM' '6:00 PM' '7:30 PM' '8:00 AM' '8:30 PM' '9:30 PM']\n",
            "0       18:00:00\n",
            "1       18:00:00\n",
            "2       18:00:00\n",
            "3       18:00:00\n",
            "4       18:00:00\n",
            "          ...   \n",
            "1864    08:00:00\n",
            "1865    08:00:00\n",
            "1866    08:00:00\n",
            "1867    08:00:00\n",
            "1868    08:00:00\n",
            "Name: Time, Length: 1869, dtype: object\n"
          ],
          "name": "stdout"
        }
      ]
    },
    {
      "cell_type": "code",
      "metadata": {
        "id": "OHiazDOA0XZo",
        "colab_type": "code",
        "outputId": "c4690cf2-e616-4f8c-a5b6-a5699531b3bf",
        "colab": {
          "base_uri": "https://localhost:8080/",
          "height": 235
        }
      },
      "source": [
        "raw_data['Date'] = raw_data['Date'] + '20'\n",
        "raw_data['Datetime'] = raw_data['Date'] + ' ' + raw_data['Time']\n",
        "for i in range(len(raw_data['Datetime'])):\n",
        "  raw_data['Datetime'][i] = datetime.datetime.strptime(raw_data['Datetime'][i],'%d/%m/%Y %H:%M:%S')  \n",
        "print(raw_data['Datetime'])                                                                              # converting all the dates in string to datetime data type"
      ],
      "execution_count": 0,
      "outputs": [
        {
          "output_type": "stream",
          "text": [
            "0       2020-01-30 18:00:00\n",
            "1       2020-01-31 18:00:00\n",
            "2       2020-02-01 18:00:00\n",
            "3       2020-02-02 18:00:00\n",
            "4       2020-02-03 18:00:00\n",
            "               ...         \n",
            "1864    2020-05-12 08:00:00\n",
            "1865    2020-05-12 08:00:00\n",
            "1866    2020-05-12 08:00:00\n",
            "1867    2020-05-12 08:00:00\n",
            "1868    2020-05-12 08:00:00\n",
            "Name: Datetime, Length: 1869, dtype: object\n"
          ],
          "name": "stdout"
        }
      ]
    },
    {
      "cell_type": "code",
      "metadata": {
        "id": "RMF6VAJAQRNZ",
        "colab_type": "code",
        "outputId": "cd581d83-9bfe-44d2-a643-86b102d49f7f",
        "colab": {
          "base_uri": "https://localhost:8080/",
          "height": 726
        }
      },
      "source": [
        "statewise = raw_data.groupby('State/UnionTerritory')['Confirmed','Deaths','Cured'].max()\n",
        "statewise['Active'] = statewise['Confirmed'] - statewise['Deaths'] - statewise['Cured']\n",
        "print(statewise)                                                                # displaying statewise statistics as they stand for better understanding"
      ],
      "execution_count": 0,
      "outputs": [
        {
          "output_type": "stream",
          "text": [
            "                             Confirmed  Deaths  Cured  Active\n",
            "State/UnionTerritory                                         \n",
            "Andaman and Nicobar Islands         33       0     33       0\n",
            "Andhra Pradesh                    2018      45    975     998\n",
            "Arunachal Pradesh                    1       0      1       0\n",
            "Assam                               65       2     34      29\n",
            "Bihar                              747       6    377     364\n",
            "Chandigarh                         174       2     24     148\n",
            "Chhattisgarh                        59       0     53       6\n",
            "Dadar Nagar Haveli                   1       0      0       1\n",
            "Delhi                             7233      73   2129    5031\n",
            "Goa                                  7       0      7       0\n",
            "Gujarat                           8541     513   2780    5248\n",
            "Haryana                            730      11    337     382\n",
            "Himachal Pradesh                    59       2     39      18\n",
            "Jammu and Kashmir                  879      10    427     442\n",
            "Jharkhand                          160       3     78      79\n",
            "Jharkhand#                          45       3      0      42\n",
            "Karnataka                          862      31    426     405\n",
            "Kerala                             519       4    489      26\n",
            "Ladakh                              42       0     21      21\n",
            "Madhya Pradesh                    3785     221   1747    1817\n",
            "Maharashtra                      23401     868   4786   17747\n",
            "Manipur                              2       0      2       0\n",
            "Meghalaya                           13       1     10       2\n",
            "Mizoram                              1       0      1       0\n",
            "Nagaland                             1       0      0       1\n",
            "Nagaland#                            0       0      0       0\n",
            "Odisha                             414       3     85     326\n",
            "Puducherry                          12       0      6       6\n",
            "Punjab                            1877      31    168    1678\n",
            "Rajasthan                         3988     113   2264    1611\n",
            "Tamil Nadu                        8002      53   2051    5898\n",
            "Telengana                         1275      30    800     445\n",
            "Tripura                            152       0      2     150\n",
            "Unassigned                          77       0      0      77\n",
            "Uttar Pradesh                     3573      80   1758    1735\n",
            "Uttarakhand                         68       1     46      21\n",
            "West Bengal                       2063     190    499    1374\n"
          ],
          "name": "stdout"
        }
      ]
    },
    {
      "cell_type": "code",
      "metadata": {
        "id": "2hjkXDTSY23G",
        "colab_type": "code",
        "colab": {}
      },
      "source": [
        "from statsmodels.tsa.arima_model import ARIMA\n",
        "from matplotlib import pyplot as plt\n",
        "from pandas.plotting import autocorrelation_plot"
      ],
      "execution_count": 0,
      "outputs": []
    },
    {
      "cell_type": "code",
      "metadata": {
        "id": "gumb2xM50w9k",
        "colab_type": "code",
        "colab": {}
      },
      "source": [
        "def predcountry(raw_data,days_in_advance):\n",
        "  raw_data['Datetime'] = raw_data['Date'] + ' ' + raw_data['Time']\n",
        "  for i in range(len(raw_data['Datetime'])):\n",
        "    raw_data['Datetime'][i] = datetime.datetime.strptime(raw_data['Datetime'][i],'%d/%m/%Y %H:%M:%S')  \n",
        "  #print(raw_data['Datetime'])     \n",
        "  country_data = raw_data.groupby(\"Datetime\")[[\"Confirmed\",\"Cured\",\"Deaths\"]].sum().reset_index()\n",
        "  country_data['Active'] = country_data['Confirmed'] - country_data['Cured'] - country_data['Deaths']            \n",
        "  #print(country_data)                             \n",
        "  country_data['ds'] = country_data['Datetime']\n",
        "  country_data['y'] = country_data['Confirmed'] \n",
        "  testing = country_data.loc[:,('Confirmed','Datetime')]\n",
        "  model2 = ARIMA(testing['Confirmed'],order = [5,1,0])\n",
        "  model2 = model2.fit()\n",
        "  forecast = model2.forecast(steps = 30)\n",
        "  pred = list(forecast[0].astype(int))\n",
        "  y = country_data['Confirmed']\n",
        "  y = y.append(pd.Series(pred))\n",
        "  y = y.reset_index(drop = True)\n",
        "  #print(y)\n",
        "  x = pd.Series(pd.date_range(raw_data['Date'][0],periods=len(y)))\n",
        "  #with pd.option_context('display.max_rows', None, 'display.max_columns', None):  # more options can be specified also\n",
        "   #print(x)\n",
        "  plt.plot(x,y,linestyle = 'solid')\n",
        "  plt.show()\n",
        "  return pred[days_in_advance].astype(int),x,y"
      ],
      "execution_count": 0,
      "outputs": []
    },
    {
      "cell_type": "code",
      "metadata": {
        "id": "aEUIEsZH4Ral",
        "colab_type": "code",
        "outputId": "75712929-3edd-4b74-e2dd-4cf5414b55a8",
        "colab": {
          "base_uri": "https://localhost:8080/",
          "height": 283
        }
      },
      "source": [
        "+mmmmmmmmmmmmmmval,x,y = predcountry(raw_data,2)\n",
        "print(\"Expected confirmed cases by \" + str((datetime.datetime.today().date()+timedelta(days=10)))+\" are \" + str(val))"
      ],
      "execution_count": 0,
      "outputs": [
        {
          "output_type": "display_data",
          "data": {
            "image/png": "[encoded data removed]",
            "text/plain": [
              "<Figure size 432x288 with 1 Axes>"
            ]
          },
          "metadata": {
            "tags": [],
            "needs_background": "light"
          }
        },
        {
          "output_type": "stream",
          "text": [
            "Expected confirmed cases by 2020-05-22 are 82639\n"
          ],
          "name": "stdout"
        }
      ]
    },
    {
      "cell_type": "code",
      "metadata": {
        "id": "SfeP3xCa9hXV",
        "colab_type": "code",
        "colab": {}
      },
      "source": [
        "def pred_state(raw_data,state,days_in_advance):\n",
        "  delh = raw_data[raw_data['State/UnionTerritory'] == state].reset_index()\n",
        "  #print(delh)\n",
        "  tdata = delh.loc[:,('Datetime','Confirmed')]\n",
        "  model1 = ARIMA(tdata['Confirmed'],order = [5,1,0])\n",
        "  model1 = model1.fit(trend = 'c')\n",
        "  forec = model1.forecast(steps = 30)\n",
        "  pred = list(forec[0])\n",
        "  y = delh['Confirmed']\n",
        "  y = y.append(pd.Series(pred))\n",
        "  y = y.reset_index(drop = True)\n",
        "  #print(y)\n",
        "  x = pd.Series(pd.date_range(raw_data['Date'][0],periods=len(y)))\n",
        "  return pred[days_in_advance].astype(int),x,y"
      ],
      "execution_count": 0,
      "outputs": []
    },
    {
      "cell_type": "code",
      "metadata": {
        "id": "qDO8f7uU_oK4",
        "colab_type": "code",
        "outputId": "73102e99-7bfb-4b26-d141-65b87728f560",
        "colab": {
          "base_uri": "https://localhost:8080/",
          "height": 301
        }
      },
      "source": [
        "state = 'Delhi'\n",
        "days = 5\n",
        "val2,x1,y1 = pred_state(raw_data,state,days)\n",
        "print(\"Expected Confirmed cases in \" + state + \" by \" + str((datetime.datetime.today().date()+timedelta(days=days)))+\" is \"+str(val2))\n",
        "plt.plot(x1,y1,linestyle = 'dashed')"
      ],
      "execution_count": 0,
      "outputs": [
        {
          "output_type": "stream",
          "text": [
            "Expected Confirmed cases in Delhi by 2020-05-17 is 9143\n"
          ],
          "name": "stdout"
        },
        {
          "output_type": "execute_result",
          "data": {
            "text/plain": [
              "[<matplotlib.lines.Line2D at 0x7fa3f05c02e8>]"
            ]
          },
          "metadata": {
            "tags": []
          },
          "execution_count": 25
        },
        {
          "output_type": "display_data",
          "data": {
            "image/png": "[encoded data removed]",
            "text/plain": [
              "<Figure size 432x288 with 1 Axes>"
            ]
          },
          "metadata": {
            "tags": [],
            "needs_background": "light"
          }
        }
      ]
    }
  ]
}